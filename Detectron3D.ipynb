{
 "cells": [
  {
   "cell_type": "code",
   "execution_count": 1,
   "id": "a541125f",
   "metadata": {},
   "outputs": [],
   "source": [
    "import torch\n",
    "import torch.nn as nn\n",
    "import numpy as np\n",
    "import torchvision.transforms.functional as F\n",
    "from torchvision.ops import FeaturePyramidNetwork\n",
    "from collections import OrderedDict\n",
    "import os, sys\n",
    "sys.path.append('./models/')\n",
    "from fcos3d import FCOS3D\n",
    "from resnet101 import ResNet101\n",
    "from resnet101_deformable import ResNet101DCN"
   ]
  },
  {
   "cell_type": "code",
   "execution_count": 2,
   "id": "9fc993be",
   "metadata": {},
   "outputs": [],
   "source": [
    "# from torchvision.models import mobilenet_v2\n",
    "\n",
    "# # model =torch.hub.load('pytorch/vision:v0.10.0', 'mobilenet_v2', pretrained=True)\n",
    "# x = torch.rand((1,3,800,1024))\n",
    "# model = mobilenet_v2().features\n",
    "# layers = []\n",
    "# layers.append(model[:4](x))\n",
    "# layers.append(model[:7](x))\n",
    "# layers.append(model[:14](x))\n",
    "# layers.append(model[:-1](x))\n",
    "# for item in layers:\n",
    "#     print(item.shape)"
   ]
  },
  {
   "cell_type": "code",
   "execution_count": 3,
   "id": "a9cfac59",
   "metadata": {},
   "outputs": [],
   "source": [
    "device = 'cuda' if torch.cuda.is_available() else 'cpu'\n",
    "resnet = ResNet101DCN()\n",
    "model = FCOS3D(resnet).to(device)\n",
    "outs = model(torch.rand((1,3,800,1024)).to(device))"
   ]
  },
  {
   "cell_type": "code",
   "execution_count": 4,
   "id": "fcf98666",
   "metadata": {},
   "outputs": [
    {
     "name": "stdout",
     "output_type": "stream",
     "text": [
      "p3 cls torch.Size([1, 10, 100, 128])\n",
      "p3 centerness torch.Size([1, 1, 100, 128])\n",
      "p3 offset torch.Size([1, 2, 100, 128])\n",
      "p3 depth torch.Size([1, 1, 100, 128])\n",
      "p3 size torch.Size([1, 3, 100, 128])\n",
      "p3 rotation torch.Size([1, 1, 100, 128])\n",
      "p3 dir torch.Size([1, 2, 100, 128])\n",
      "p4 cls torch.Size([1, 10, 50, 64])\n",
      "p4 centerness torch.Size([1, 1, 50, 64])\n",
      "p4 offset torch.Size([1, 2, 50, 64])\n",
      "p4 depth torch.Size([1, 1, 50, 64])\n",
      "p4 size torch.Size([1, 3, 50, 64])\n",
      "p4 rotation torch.Size([1, 1, 50, 64])\n",
      "p4 dir torch.Size([1, 2, 50, 64])\n",
      "p5 cls torch.Size([1, 10, 25, 32])\n",
      "p5 centerness torch.Size([1, 1, 25, 32])\n",
      "p5 offset torch.Size([1, 2, 25, 32])\n",
      "p5 depth torch.Size([1, 1, 25, 32])\n",
      "p5 size torch.Size([1, 3, 25, 32])\n",
      "p5 rotation torch.Size([1, 1, 25, 32])\n",
      "p5 dir torch.Size([1, 2, 25, 32])\n",
      "p6 cls torch.Size([1, 10, 13, 16])\n",
      "p6 centerness torch.Size([1, 1, 13, 16])\n",
      "p6 offset torch.Size([1, 2, 13, 16])\n",
      "p6 depth torch.Size([1, 1, 13, 16])\n",
      "p6 size torch.Size([1, 3, 13, 16])\n",
      "p6 rotation torch.Size([1, 1, 13, 16])\n",
      "p6 dir torch.Size([1, 2, 13, 16])\n",
      "p7 cls torch.Size([1, 10, 7, 8])\n",
      "p7 centerness torch.Size([1, 1, 7, 8])\n",
      "p7 offset torch.Size([1, 2, 7, 8])\n",
      "p7 depth torch.Size([1, 1, 7, 8])\n",
      "p7 size torch.Size([1, 3, 7, 8])\n",
      "p7 rotation torch.Size([1, 1, 7, 8])\n",
      "p7 dir torch.Size([1, 2, 7, 8])\n"
     ]
    }
   ],
   "source": [
    "for key in outs.keys():\n",
    "    for k in outs[key].keys():\n",
    "        print(key, k, outs[key][k].shape)"
   ]
  },
  {
   "cell_type": "code",
   "execution_count": null,
   "id": "5b48f615",
   "metadata": {},
   "outputs": [],
   "source": []
  }
 ],
 "metadata": {
  "kernelspec": {
   "display_name": "Python (env37)",
   "language": "python",
   "name": "env37"
  },
  "language_info": {
   "codemirror_mode": {
    "name": "ipython",
    "version": 3
   },
   "file_extension": ".py",
   "mimetype": "text/x-python",
   "name": "python",
   "nbconvert_exporter": "python",
   "pygments_lexer": "ipython3",
   "version": "3.7.0"
  }
 },
 "nbformat": 4,
 "nbformat_minor": 5
}

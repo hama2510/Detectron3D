{
 "cells": [
  {
   "cell_type": "code",
   "execution_count": 1,
   "id": "9900f9e6",
   "metadata": {},
   "outputs": [],
   "source": [
    "import numpy as np\n",
    "import cv2 as cv\n",
    "from glob import glob \n",
    "import os\n",
    "import json\n",
    "from tqdm.notebook import tqdm"
   ]
  },
  {
   "cell_type": "code",
   "execution_count": 4,
   "id": "53f4a4f8",
   "metadata": {},
   "outputs": [],
   "source": [
    "def parse_kitti_calib(calib):\n",
    "    data = dict({'calib_cam_to_cam':{}, 'velo_to_cam':{}, 'imu_to_velo':{}})\n",
    "    with open(calib) as f:\n",
    "        lines = f.readlines()\n",
    "    for line in lines:\n",
    "        if len(line.split(':'))>1:\n",
    "            key, value_str = line.split(':')\n",
    "            values = value_str.split(' ')[1:]\n",
    "            values = [float(x) for x in values]\n",
    "            if key.startswith('P'):\n",
    "                data['calib_cam_to_cam'][key+'_rect'] = np.resize(values, (3, 4))\n",
    "            elif key=='R0_rect':\n",
    "                data['calib_cam_to_cam'][key] = np.resize(values, (3, 3))\n",
    "            elif key.startswith('Tr'):\n",
    "                upper_key = key[3:]\n",
    "                data[upper_key]['T'] = np.resize(values[:3], (3, 1))\n",
    "                data[upper_key]['r'] = np.resize(values[3:], (3, 3))\n",
    "    return data\n",
    "\n",
    "def kitti_to_nusence(kitti_calib):\n",
    "    nuscence_calib = {}\n",
    "    r0_rect = np.zeros((4, 4))\n",
    "    r0_rect[:3, :3] = kitti_calib['calib_cam_to_cam']['R0_rect']\n",
    "    r0_rect[3, 3] = 1\n",
    "    for key in kitti_calib['calib_cam_to_cam'].keys():\n",
    "        if key.startswith('P'):\n",
    "            Q = kitti_calib['calib_cam_to_cam'][key] @ r0_rect\n",
    "            K,_,_,_,_,_,_ = cv.decomposeProjectionMatrix(Q)\n",
    "            K[abs(K)<1e-5] = 0.0\n",
    "            K[2,2] = 1.0\n",
    "            nuscence_calib[key[:2]] = Q\n",
    "            nuscence_calib[key[:2]+'_intrinsic'] = K\n",
    "    nuscence_calib['P_intrinsic'] = cv.decomposeProjectionMatrix(kitti_calib['calib_cam_to_cam']['P0_rect'])[0]\n",
    "    return nuscence_calib\n",
    "\n",
    "def extract(calib_path):\n",
    "    calib_kitti = parse_kitti_calib(calib_path)\n",
    "    calib_nusence = kitti_to_nusence(calib_kitti)\n",
    "    img_path = calib_path.replace('calib', 'image_2').replace('.txt', '.png')\n",
    "    calib = {\"images\":[{'file_name':img_path, 'cam_intrinsic':calib_nusence['P0_intrinsic']}]}\n",
    "    return calib\n",
    "0\n",
    "class NumpyEncoder(json.JSONEncoder):\n",
    "    def default(self, obj):\n",
    "        if isinstance(obj, np.ndarray):\n",
    "            return obj.tolist()\n",
    "        return json.JSONEncoder.default(self, obj)"
   ]
  },
  {
   "cell_type": "code",
   "execution_count": 5,
   "id": "4483feda",
   "metadata": {},
   "outputs": [
    {
     "data": {
      "application/vnd.jupyter.widget-view+json": {
       "model_id": "5748c964213a45b8aaa26ff29dca7244",
       "version_major": 2,
       "version_minor": 0
      },
      "text/plain": [
       "  0%|          | 0/7481 [00:00<?, ?it/s]"
      ]
     },
     "metadata": {},
     "output_type": "display_data"
    }
   ],
   "source": [
    "files = glob('../../data/KITTI/training/calib/*.txt')\n",
    "for f in tqdm(files):\n",
    "    calib_path = f.replace('calib', 'calib_nuscene').replace('.txt', '.json')\n",
    "    folder_path = '/'.join(calib_path.split('/')[:-1])\n",
    "    if not os.path.exists(folder_path):\n",
    "        os.makedirs(folder_path)\n",
    "    calib = extract(f)\n",
    "    fp = open(calib_path, 'w+')\n",
    "    json.dump(calib, fp, cls=NumpyEncoder)"
   ]
  },
  {
   "cell_type": "code",
   "execution_count": 2,
   "id": "c75e398e",
   "metadata": {},
   "outputs": [],
   "source": [
    "from glob import glob \n",
    "files = glob('../../data/nuScenes/sweeps/CAM_BACK/n015*')\n",
    "files.sort()"
   ]
  },
  {
   "cell_type": "code",
   "execution_count": 5,
   "id": "584287c4",
   "metadata": {},
   "outputs": [
    {
     "data": {
      "text/plain": [
       "'../../data/nuScenes/sweeps/CAM_BACK/n015-2018-07-11-11-54-16+0800__CAM_BACK__1531281439887525.jpg'"
      ]
     },
     "execution_count": 5,
     "metadata": {},
     "output_type": "execute_result"
    }
   ],
   "source": [
    "files[0]"
   ]
  },
  {
   "cell_type": "code",
   "execution_count": 27,
   "id": "65859007",
   "metadata": {},
   "outputs": [
    {
     "data": {
      "text/plain": [
       "'../../data/nuScenes/sweeps/CAM_BACK/n015-2018-07-11-11-54-16+0800__CAM_BACK__1531281981187525.jpg'"
      ]
     },
     "execution_count": 27,
     "metadata": {},
     "output_type": "execute_result"
    }
   ],
   "source": [
    "files[2044]"
   ]
  },
  {
   "cell_type": "code",
   "execution_count": null,
   "id": "cede9fd0",
   "metadata": {},
   "outputs": [],
   "source": []
  },
  {
   "cell_type": "code",
   "execution_count": null,
   "id": "58e959a6",
   "metadata": {},
   "outputs": [],
   "source": []
  }
 ],
 "metadata": {
  "kernelspec": {
   "display_name": "Python (open-mmlab)",
   "language": "python",
   "name": "open-mmlab"
  },
  "language_info": {
   "codemirror_mode": {
    "name": "ipython",
    "version": 3
   },
   "file_extension": ".py",
   "mimetype": "text/x-python",
   "name": "python",
   "nbconvert_exporter": "python",
   "pygments_lexer": "ipython3",
   "version": "3.7.13"
  }
 },
 "nbformat": 4,
 "nbformat_minor": 5
}

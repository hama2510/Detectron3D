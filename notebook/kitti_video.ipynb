{
 "cells": [
  {
   "cell_type": "code",
   "execution_count": 1,
   "id": "9b1724ce",
   "metadata": {},
   "outputs": [],
   "source": [
    "import cv2 as cv\n",
    "from glob import glob\n",
    "import json\n",
    "from datetime import datetime"
   ]
  },
  {
   "cell_type": "code",
   "execution_count": 2,
   "id": "ca21ba8e",
   "metadata": {},
   "outputs": [
    {
     "data": {
      "text/plain": [
       "[{'token': '1fa93b757fc74fb197cdd60001ad8abf',\n",
       "  'name': 'human.pedestrian.adult',\n",
       "  'description': 'Adult subcategory.'},\n",
       " {'token': 'b1c6de4c57f14a5383d9f963fbdcb5cb',\n",
       "  'name': 'human.pedestrian.child',\n",
       "  'description': 'Child subcategory.'},\n",
       " {'token': 'b2d7c6c701254928a9e4d6aac9446d79',\n",
       "  'name': 'human.pedestrian.wheelchair',\n",
       "  'description': 'Wheelchairs. If a person is in the wheelchair, include in the annotation.'},\n",
       " {'token': '6a5888777ca14867a8aee3fe539b56c4',\n",
       "  'name': 'human.pedestrian.stroller',\n",
       "  'description': 'Strollers. If a person is in the stroller, include in the annotation.'},\n",
       " {'token': '403fede16c88426885dd73366f16c34a',\n",
       "  'name': 'human.pedestrian.personal_mobility',\n",
       "  'description': 'A small electric or self-propelled vehicle, e.g. skateboard, segway, or scooters, on which the person typically travels in a upright position. Driver and (if applicable) rider should be included in the bounding box along with the vehicle.'},\n",
       " {'token': 'bb867e2064014279863c71a29b1eb381',\n",
       "  'name': 'human.pedestrian.police_officer',\n",
       "  'description': 'Police officer.'},\n",
       " {'token': '909f1237d34a49d6bdd27c2fe4581d79',\n",
       "  'name': 'human.pedestrian.construction_worker',\n",
       "  'description': 'Construction worker'},\n",
       " {'token': '63a94dfa99bb47529567cd90d3b58384',\n",
       "  'name': 'animal',\n",
       "  'description': 'All animals, e.g. cats, rats, dogs, deer, birds.'},\n",
       " {'token': 'fd69059b62a3469fbaef25340c0eab7f',\n",
       "  'name': 'vehicle.car',\n",
       "  'description': 'Vehicle designed primarily for personal use, e.g. sedans, hatch-backs, wagons, vans, mini-vans, SUVs and jeeps. If the vehicle is designed to carry more than 10 people use vehicle.bus. If it is primarily designed to haul cargo use vehicle.truck. '},\n",
       " {'token': 'dfd26f200ade4d24b540184e16050022',\n",
       "  'name': 'vehicle.motorcycle',\n",
       "  'description': 'Gasoline or electric powered 2-wheeled vehicle designed to move rapidly (at the speed of standard cars) on the road surface. This category includes all motorcycles, vespas and scooters.'},\n",
       " {'token': 'fc95c87b806f48f8a1faea2dcc2222a4',\n",
       "  'name': 'vehicle.bicycle',\n",
       "  'description': 'Human or electric powered 2-wheeled vehicle designed to travel at lower speeds either on road surface, sidewalks or bike paths.'},\n",
       " {'token': '003edbfb9ca849ee8a7496e9af3025d4',\n",
       "  'name': 'vehicle.bus.bendy',\n",
       "  'description': 'Bendy bus subcategory. Annotate each section of the bendy bus individually.'},\n",
       " {'token': 'fedb11688db84088883945752e480c2c',\n",
       "  'name': 'vehicle.bus.rigid',\n",
       "  'description': 'Rigid bus subcategory.'},\n",
       " {'token': '6021b5187b924d64be64a702e5570edf',\n",
       "  'name': 'vehicle.truck',\n",
       "  'description': 'Vehicles primarily designed to haul cargo including pick-ups, lorrys, trucks and semi-tractors. Trailers hauled after a semi-tractor should be labeled as vehicle.trailer'},\n",
       " {'token': '5b3cd6f2bca64b83aa3d0008df87d0e4',\n",
       "  'name': 'vehicle.construction',\n",
       "  'description': 'Vehicles primarily designed for construction. Typically very slow moving or stationary. Cranes and extremities of construction vehicles are only included in annotations if they interfere with traffic. Trucks used to haul rocks or building materials are considered vehicle.truck rather than construction vehicles.'},\n",
       " {'token': '732cce86872640628788ff1bb81006d4',\n",
       "  'name': 'vehicle.emergency.ambulance',\n",
       "  'description': 'All types of ambulances.'},\n",
       " {'token': '7b2ff083a64e4d53809ae5d9be563504',\n",
       "  'name': 'vehicle.emergency.police',\n",
       "  'description': 'All types of police vehicles including police bicycles and motorcycles.'},\n",
       " {'token': '90d0f6f8e7c749149b1b6c3a029841a8',\n",
       "  'name': 'vehicle.trailer',\n",
       "  'description': 'Any vehicle trailer, both for trucks, cars and bikes.'},\n",
       " {'token': '653f7efbb9514ce7b81d44070d6208c1',\n",
       "  'name': 'movable_object.barrier',\n",
       "  'description': 'Temporary road barrier placed in the scene in order to redirect traffic. Commonly used at construction sites. This includes concrete barrier, metal barrier and water barrier. No fences.'},\n",
       " {'token': '85abebdccd4d46c7be428af5a6173947',\n",
       "  'name': 'movable_object.trafficcone',\n",
       "  'description': 'All types of traffic cone.'},\n",
       " {'token': 'd772e4bae20f493f98e15a76518b31d7',\n",
       "  'name': 'movable_object.pushable_pullable',\n",
       "  'description': 'Objects that a pedestrian may push or pull. For example dolleys, wheel barrows, garbage-bins, or shopping carts.'},\n",
       " {'token': '063c5e7f638343d3a7230bc3641caf97',\n",
       "  'name': 'movable_object.debris',\n",
       "  'description': 'Movable object that is left on the driveable surface that is too large to be driven over safely, e.g tree branch, full trash bag etc.'},\n",
       " {'token': '0a30519ee16a4619b4f4acfe2d78fb55',\n",
       "  'name': 'static_object.bicycle_rack',\n",
       "  'description': 'Area or device intended to park or secure the bicycles in a row. It includes all the bikes parked in it and any empty slots that are intended for parking bikes.'}]"
      ]
     },
     "execution_count": 2,
     "metadata": {},
     "output_type": "execute_result"
    }
   ],
   "source": [
    "files1 = glob('../../data/KITTI/testing/calib/')"
   ]
  },
  {
   "cell_type": "code",
   "execution_count": null,
   "id": "b9adb808",
   "metadata": {},
   "outputs": [],
   "source": []
  }
 ],
 "metadata": {
  "kernelspec": {
   "display_name": "Python (env37)",
   "language": "python",
   "name": "env37"
  },
  "language_info": {
   "codemirror_mode": {
    "name": "ipython",
    "version": 3
   },
   "file_extension": ".py",
   "mimetype": "text/x-python",
   "name": "python",
   "nbconvert_exporter": "python",
   "pygments_lexer": "ipython3",
   "version": "3.7.0"
  }
 },
 "nbformat": 4,
 "nbformat_minor": 5
}

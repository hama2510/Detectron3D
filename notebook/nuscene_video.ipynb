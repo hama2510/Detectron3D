{
 "cells": [
  {
   "cell_type": "code",
   "execution_count": 41,
   "id": "4f7cc8d3",
   "metadata": {},
   "outputs": [],
   "source": [
    "import cv2 as cv\n",
    "from glob import glob\n",
    "import json\n",
    "from datetime import datetime"
   ]
  },
  {
   "cell_type": "code",
   "execution_count": 23,
   "id": "dfe0c253",
   "metadata": {},
   "outputs": [],
   "source": [
    "files1 = glob('../../data/nuScenes/sweeps/CAM_BACK/n015*')\n",
    "files2 = glob('../../data/nuScenes/samples/CAM_BACK/n015*')\n",
    "files = files1+files2\n",
    "files.sort(key=lambda x: x.split('/')[-1])"
   ]
  },
  {
   "cell_type": "code",
   "execution_count": 64,
   "id": "9627b788",
   "metadata": {},
   "outputs": [
    {
     "data": {
      "text/plain": [
       "'../../data/nuScenes/samples/CAM_BACK/n015-2018-07-11-11-54-16+0800__CAM_BACK__1531281439787525.jpg'"
      ]
     },
     "execution_count": 64,
     "metadata": {},
     "output_type": "execute_result"
    }
   ],
   "source": [
    "files[0]"
   ]
  },
  {
   "cell_type": "code",
   "execution_count": 77,
   "id": "6e742c79",
   "metadata": {},
   "outputs": [
    {
     "data": {
      "text/plain": [
       "'../../data/nuScenes/sweeps/CAM_BACK/n015-2018-07-11-11-54-16+0800__CAM_BACK__1531281440387525.jpg'"
      ]
     },
     "execution_count": 77,
     "metadata": {},
     "output_type": "execute_result"
    }
   ],
   "source": [
    "files[7]"
   ]
  },
  {
   "cell_type": "code",
   "execution_count": 69,
   "id": "814a52f2",
   "metadata": {},
   "outputs": [
    {
     "data": {
      "text/plain": [
       "'../../data/nuScenes/sweeps/CAM_BACK/n015-2018-07-11-11-54-16+0800__CAM_BACK__1531281974437525.jpg'"
      ]
     },
     "execution_count": 69,
     "metadata": {},
     "output_type": "execute_result"
    }
   ],
   "source": [
    "files[2399]"
   ]
  },
  {
   "cell_type": "code",
   "execution_count": 62,
   "id": "813df16f",
   "metadata": {},
   "outputs": [
    {
     "name": "stdout",
     "output_type": "stream",
     "text": [
      "2018-07-11-11-54-16\n",
      "2018-07-16-11-49-16\n",
      "2018-07-18-11-07-57\n",
      "2018-07-18-11-18-34\n",
      "2018-07-18-11-41-49\n",
      "2018-07-18-11-50-34\n"
     ]
    },
    {
     "ename": "KeyboardInterrupt",
     "evalue": "",
     "output_type": "error",
     "traceback": [
      "\u001b[0;31m---------------------------------------------------------------------------\u001b[0m",
      "\u001b[0;31mKeyboardInterrupt\u001b[0m                         Traceback (most recent call last)",
      "\u001b[0;32m/tmp/ipykernel_62728/3985692214.py\u001b[0m in \u001b[0;36m<module>\u001b[0;34m\u001b[0m\n\u001b[1;32m     16\u001b[0m     \u001b[0mout\u001b[0m \u001b[0;34m=\u001b[0m \u001b[0mcv\u001b[0m\u001b[0;34m.\u001b[0m\u001b[0mVideoWriter\u001b[0m\u001b[0;34m(\u001b[0m\u001b[0;34m'./n015/n015_%s.mp4'\u001b[0m\u001b[0;34m%\u001b[0m\u001b[0mkey\u001b[0m\u001b[0;34m.\u001b[0m\u001b[0mreplace\u001b[0m\u001b[0;34m(\u001b[0m\u001b[0;34m'-'\u001b[0m\u001b[0;34m,\u001b[0m \u001b[0;34m'_'\u001b[0m\u001b[0;34m)\u001b[0m\u001b[0;34m,\u001b[0m \u001b[0mfourcc\u001b[0m\u001b[0;34m,\u001b[0m \u001b[0;36m12\u001b[0m\u001b[0;34m,\u001b[0m \u001b[0mframe_size\u001b[0m\u001b[0;34m)\u001b[0m\u001b[0;34m\u001b[0m\u001b[0m\n\u001b[1;32m     17\u001b[0m     \u001b[0;32mfor\u001b[0m \u001b[0mf\u001b[0m \u001b[0;32min\u001b[0m \u001b[0mdata\u001b[0m\u001b[0;34m[\u001b[0m\u001b[0mkey\u001b[0m\u001b[0;34m]\u001b[0m\u001b[0;34m:\u001b[0m\u001b[0;34m\u001b[0m\u001b[0m\n\u001b[0;32m---> 18\u001b[0;31m         \u001b[0mimg\u001b[0m \u001b[0;34m=\u001b[0m \u001b[0mcv2\u001b[0m\u001b[0;34m.\u001b[0m\u001b[0mimread\u001b[0m\u001b[0;34m(\u001b[0m\u001b[0mf\u001b[0m\u001b[0;34m)\u001b[0m\u001b[0;34m\u001b[0m\u001b[0m\n\u001b[0m\u001b[1;32m     19\u001b[0m         \u001b[0mout\u001b[0m\u001b[0;34m.\u001b[0m\u001b[0mwrite\u001b[0m\u001b[0;34m(\u001b[0m\u001b[0mimg\u001b[0m\u001b[0;34m)\u001b[0m\u001b[0;34m\u001b[0m\u001b[0m\n\u001b[1;32m     20\u001b[0m     \u001b[0mcv\u001b[0m\u001b[0;34m.\u001b[0m\u001b[0mdestroyAllWindows\u001b[0m\u001b[0;34m(\u001b[0m\u001b[0;34m)\u001b[0m\u001b[0;34m\u001b[0m\u001b[0m\n",
      "\u001b[0;31mKeyboardInterrupt\u001b[0m: "
     ]
    }
   ],
   "source": [
    "data = dict()\n",
    "# curr = datetime.strptime(files[0].split('/')[-1][5:24], '%Y-%m-%d-%H-%M-%S')\n",
    "for f in files:\n",
    "    datetime_str = f.split('/')[-1][5:24]\n",
    "#     dt = datetime.strptime(datetime_str, '%Y-%m-%d-%H-%M-%S')\n",
    "#     diff = (dt-curr).total_seconds()\n",
    "    if not datetime_str in data.keys():\n",
    "        data[datetime_str]=[]\n",
    "    data[datetime_str].append(f)\n",
    "    \n",
    "img = cv.imread(files[0])\n",
    "frame_size = (img.shape[1], img.shape[0])\n",
    "for key in data.keys():\n",
    "    print(key)\n",
    "    fourcc = cv.VideoWriter_fourcc(*'mp4v')\n",
    "    out = cv.VideoWriter('./n015/n015_%s.mp4'%key.replace('-', '_'), fourcc, 12, frame_size)\n",
    "    for f in data[key]:\n",
    "        img = cv2.imread(f)\n",
    "        out.write(img)\n",
    "    cv.destroyAllWindows()\n",
    "    out.release()"
   ]
  },
  {
   "cell_type": "code",
   "execution_count": 54,
   "id": "a5de04d6",
   "metadata": {},
   "outputs": [
    {
     "data": {
      "text/plain": [
       "dict_keys(['2018-07-11-11-54-16', '2018-07-16-11-49-16', '2018-07-18-11-07-57', '2018-07-18-11-18-34', '2018-07-18-11-41-49', '2018-07-18-11-50-34', '2018-07-24-10-42-41', '2018-07-24-11-03-52', '2018-07-24-11-13-19', '2018-07-24-11-22-45', '2018-07-27-11-24-31', '2018-07-27-11-36-48', '2018-08-01-15-10-21', '2018-08-01-16-32-59', '2018-08-01-16-41-59', '2018-08-01-17-04-15', '2018-08-01-17-13-57', '2018-08-02-17-16-37', '2018-08-02-17-28-51', '2018-08-03-15-00-36', '2018-08-03-15-21-40', '2018-08-03-15-31-50', '2018-09-25-11-10-38', '2018-09-25-13-17-43', '2018-09-26-11-17-24', '2018-09-27-15-33-17', '2018-10-02-10-50-40', '2018-10-02-10-56-37', '2018-10-08-15-36-50', '2018-10-08-15-44-23', '2018-10-08-15-52-24', '2018-10-08-16-03-24', '2018-11-14-18-57-54', '2018-11-14-19-09-14', '2018-11-21-19-11-29', '2018-11-21-19-21-35', '2018-11-21-19-38-26', '2018-11-21-19-58-31'])"
      ]
     },
     "execution_count": 54,
     "metadata": {},
     "output_type": "execute_result"
    }
   ],
   "source": [
    "data.keys()"
   ]
  },
  {
   "cell_type": "code",
   "execution_count": 29,
   "id": "24d0556f",
   "metadata": {},
   "outputs": [
    {
     "data": {
      "text/plain": [
       "10"
      ]
     },
     "execution_count": 29,
     "metadata": {},
     "output_type": "execute_result"
    }
   ],
   "source": [
    "CLASSES = ('car', 'truck', 'trailer', 'bus', 'construction_vehicle',\n",
    "           'bicycle', 'motorcycle', 'pedestrian', 'traffic_cone',\n",
    "           'barrier')\n",
    "COLORS = ((256,0,0), (0,256,0), (0,0,256), (256,256,0), (0,256,256), (256,0,256), (25,100,100), (0,0,0),  (128,128,128),\n",
    "          (128, 128, 0))\n",
    "len(CLASSES)"
   ]
  },
  {
   "cell_type": "code",
   "execution_count": 31,
   "id": "b878d242",
   "metadata": {},
   "outputs": [
    {
     "data": {
      "image/png": "[encoded data removed]",
      "text/plain": [
       "<Figure size 432x288 with 1 Axes>"
      ]
     },
     "metadata": {
      "needs_background": "light"
     },
     "output_type": "display_data"
    }
   ],
   "source": [
    "import matplotlib.patches as mpatches\n",
    "import matplotlib.pyplot as plt\n",
    "import numpy as np\n",
    "\n",
    "def rgb2bgr(color):\n",
    "    return (color[2], color[1], color[0])\n",
    "# fig, ax = plt.subplots()\n",
    "patches = []\n",
    "for i in range(len(COLORS)):\n",
    "    patches.append(mpatches.Patch(color=np.asarray(rgb2bgr(COLORS[i]))/256, label=CLASSES[i]))\n",
    "plt.legend(handles=patches)\n",
    "plt.show()"
   ]
  },
  {
   "cell_type": "code",
   "execution_count": null,
   "id": "625d822c",
   "metadata": {},
   "outputs": [],
   "source": []
  }
 ],
 "metadata": {
  "kernelspec": {
   "display_name": "Python (env37)",
   "language": "python",
   "name": "env37"
  },
  "language_info": {
   "codemirror_mode": {
    "name": "ipython",
    "version": 3
   },
   "file_extension": ".py",
   "mimetype": "text/x-python",
   "name": "python",
   "nbconvert_exporter": "python",
   "pygments_lexer": "ipython3",
   "version": "3.7.0"
  }
 },
 "nbformat": 4,
 "nbformat_minor": 5
}
